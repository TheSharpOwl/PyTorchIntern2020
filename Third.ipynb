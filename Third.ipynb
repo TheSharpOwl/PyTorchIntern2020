{
 "cells": [
  {
   "cell_type": "code",
   "execution_count": 1,
   "metadata": {},
   "outputs": [],
   "source": [
    "import torch \n",
    "import torchvision \n",
    "from torchvision import transforms, datasets\n",
    "\n",
    "train = datasets.MNIST(\"\",train = True, download = True,\n",
    "                       transform = transforms.Compose([transforms.ToTensor()]))\n",
    "\n",
    "test = datasets.MNIST(\"\",train = False, download = True,\n",
    "                       transform = transforms.Compose([transforms.ToTensor()]))\n",
    "\n",
    "trainset = torch.utils.data.DataLoader(train, batch_size = 10, shuffle = True)\n",
    "testset = torch.utils.data.DataLoader(test, batch_size = 10, shuffle = True)\n",
    "\n"
   ]
  },
  {
   "cell_type": "code",
   "execution_count": 2,
   "metadata": {},
   "outputs": [],
   "source": [
    "# Now we will do some Neural Netowrks :D\n",
    "\n",
    "import torch.nn as nn\n",
    "import torch.nn.functional as F\n"
   ]
  },
  {
   "cell_type": "code",
   "execution_count": 6,
   "metadata": {},
   "outputs": [
    {
     "name": "stdout",
     "output_type": "stream",
     "text": [
      "Net(\n",
      "  (fc1): Linear(in_features=784, out_features=64, bias=True)\n",
      "  (fc2): Linear(in_features=64, out_features=64, bias=True)\n",
      "  (fc3): Linear(in_features=64, out_features=64, bias=True)\n",
      "  (fc4): Linear(in_features=64, out_features=10, bias=True)\n",
      ")\n"
     ]
    }
   ],
   "source": [
    "class Net(nn.Module): # remember this is inheritance\n",
    "    def __init__(self):\n",
    "        # many people forget this LOL\n",
    "        super().__init__()\n",
    "        #define the fully connected later (fc = full connected)\n",
    "        # 784 = 28 * 28 size of the flatened image, 64 is the output we just chose it so\n",
    "        self.fc1 = nn.Linear(784, 64) \n",
    "        # each later should contain input with the same size as the output of the previous one !\n",
    "        self.fc2 = nn.Linear(64, 64) \n",
    "        self.fc3 = nn.Linear(64, 64) \n",
    "        self.fc4 = nn.Linear(64, 10) \n",
    "    # And this is called Feed Forward NN because of the previous point\n",
    "    \n",
    "    def forward(self, x):\n",
    "        # relu = rectified linear which is our activation function here\n",
    "        x = F.relu(self.fc1(x))\n",
    "        x = F.relu(self.fc2(x))\n",
    "        x = F.relu(self.fc3(x))\n",
    "        x = self.fc4(x)\n",
    "        \n",
    "        return F.log_softmax(x, dim = 1)\n",
    "        \n",
    "        \n",
    "net = Net()\n",
    "print(net)"
   ]
  },
  {
   "cell_type": "code",
   "execution_count": 9,
   "metadata": {},
   "outputs": [
    {
     "data": {
      "text/plain": [
       "tensor([[-2.3219, -2.2105, -2.2390, -2.3636, -2.3975, -2.2392, -2.3790, -2.3432,\n",
       "         -2.3817, -2.1797]], grad_fn=<LogSoftmaxBackward>)"
      ]
     },
     "execution_count": 9,
     "metadata": {},
     "output_type": "execute_result"
    }
   ],
   "source": [
    "# Let's pass some data\n",
    "X = torch.rand((28,28))\n",
    "# we should change the demensions such that they would work with torch \n",
    "X = X.view(-1, 28*28) # we can put also 1 instead of 1\n",
    "output = net(X)\n",
    "output"
   ]
  },
  {
   "cell_type": "code",
   "execution_count": null,
   "metadata": {},
   "outputs": [],
   "source": [
    "# The optimizer job is to adjust weights such that it lowers the loss\n",
    "\n",
    "# The 4th video starts here\n",
    "import torch.optim as optim\n",
    "# net.parameters are the adjustable parameters in our net, lr = learning rate \n",
    "optimizer = optim.Adam(net.parameters(), lr = 0.001)\n",
    "\n"
   ]
  }
 ],
 "metadata": {
  "kernelspec": {
   "display_name": "Python 3",
   "language": "python",
   "name": "python3"
  },
  "language_info": {
   "codemirror_mode": {
    "name": "ipython",
    "version": 3
   },
   "file_extension": ".py",
   "mimetype": "text/x-python",
   "name": "python",
   "nbconvert_exporter": "python",
   "pygments_lexer": "ipython3",
   "version": "3.7.6"
  }
 },
 "nbformat": 4,
 "nbformat_minor": 4
}
