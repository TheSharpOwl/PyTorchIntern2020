{
 "cells": [
  {
   "cell_type": "code",
   "execution_count": 1,
   "metadata": {},
   "outputs": [],
   "source": [
    "import os\n",
    "import cv2\n",
    "import numpy as np\n",
    "from tqdm import tqdm\n",
    "import torch\n",
    "import torch.nn as nn\n",
    "import torch.nn.functional as F\n",
    "import torch.optim as optim"
   ]
  },
  {
   "cell_type": "code",
   "execution_count": 2,
   "metadata": {},
   "outputs": [
    {
     "name": "stdout",
     "output_type": "stream",
     "text": [
      "Running on the GPU\n"
     ]
    }
   ],
   "source": [
    "REBUILD_DATA = False # Set it to true once!!\n",
    "\n",
    "if torch.cuda.is_available():\n",
    "    device = torch.device(\"cuda:0\")\n",
    "    print(\"Running on the GPU\")\n",
    "else:\n",
    "    device = torch.device(\"cpu\")\n",
    "    print(\"Running on the CPU\")\n",
    "\n",
    "class DogsVsCats():\n",
    "    imageSize = 50\n",
    "    cats = \"CatsVsDogs/PetImages/Cat\"\n",
    "    dogs = \"CatsVsDogs/PetImages/Dog\"\n",
    "    labels = {cats : 0, dogs : 1}\n",
    "    trainingData = []\n",
    "    catCount = 0\n",
    "    dogCount = 0\n",
    "    \n",
    "    \n",
    "    def makeTrainingData(self):\n",
    "        for label in self.labels:\n",
    "            print(label)\n",
    "            for f in tqdm(os.listdir(label)):\n",
    "                try:\n",
    "                    path = os.path.join(label,f)\n",
    "                    img = cv2.imread(path, cv2.IMREAD_GRAYSCALE)\n",
    "                    img = cv2.resize(img, (self.imageSize, self.imageSize))\n",
    "                    # np.eye(2).... will produce [0,1] or [1,0]\n",
    "                    self.trainingData.append([np.array(img), np.eye(2)[self.labels[label]]])\n",
    "                    # Here we are using hot vectors (like bitmask if second is one it's a dog)\n",
    "                    if label == self.cats:\n",
    "                        self.catCount += 1\n",
    "                    elif label == self.dogs:\n",
    "                        self.dogCount += 1\n",
    "                except Exception as e:\n",
    "                    #print(str(e))\n",
    "                    pass # if some images are corrupted or not working\n",
    "        np.random.shuffle(self.trainingData)\n",
    "        np.save(\"trainingData.npy\", self.trainingData)\n",
    "        print(\"Cats:\", self.catCount)\n",
    "        print(\"Dogs:\", self.dogCount)\n",
    "        \n",
    "        \n",
    "if REBUILD_DATA:\n",
    "    dogsVsCats = DogsVsCats()\n",
    "    dogsVsCats.makeTrainingData()"
   ]
  },
  {
   "cell_type": "code",
   "execution_count": 3,
   "metadata": {},
   "outputs": [
    {
     "name": "stdout",
     "output_type": "stream",
     "text": [
      "24946\n",
      "[array([[162, 164, 162, ..., 252, 255, 252],\n",
      "       [164, 167, 152, ..., 252, 255, 253],\n",
      "       [167, 171, 156, ..., 252, 255, 252],\n",
      "       ...,\n",
      "       [100,  96,  97, ..., 115, 122, 126],\n",
      "       [100,  97,  95, ..., 131, 104, 130],\n",
      "       [ 96,  97,  94, ..., 122, 113, 103]], dtype=uint8)\n",
      " array([1., 0.])]\n"
     ]
    }
   ],
   "source": [
    "# Load training data\n",
    "trainingData = np.load(\"trainingData.npy\", allow_pickle = True)\n",
    "print(len(trainingData))\n",
    "print(trainingData[0])"
   ]
  },
  {
   "cell_type": "code",
   "execution_count": 4,
   "metadata": {},
   "outputs": [
    {
     "data": {
      "image/png": "[encoded data removed]",
      "text/plain": [
       "<Figure size 432x288 with 1 Axes>"
      ]
     },
     "metadata": {
      "needs_background": "light"
     },
     "output_type": "display_data"
    }
   ],
   "source": [
    "# Let's show a picture\n",
    "import matplotlib.pyplot as plt\n",
    "\n",
    "plt.imshow(trainingData[1][0], cmap=\"gray\")\n",
    "plt.show()\n"
   ]
  },
  {
   "cell_type": "code",
   "execution_count": 5,
   "metadata": {},
   "outputs": [],
   "source": [
    "# Our Neural Netowrk Class\n",
    "class Net(nn.Module):\n",
    "    def __init__(self):\n",
    "        super().__init__()\n",
    "        # Kernel/Window is 5\n",
    "        self.conv1 = nn.Conv2d(1, 32, 5)\n",
    "        self.conv2 = nn.Conv2d(32, 64, 5)\n",
    "        self.conv3 = nn.Conv2d(64, 128, 5)\n",
    "        \n",
    "        x = torch.randn(50,50).view(-1,1,50,50)\n",
    "        self._to_linear = None\n",
    "        self.convs(x) # part of the forward\n",
    "        \n",
    "        self.fc1 = nn.Linear(self._to_linear, 512)\n",
    "        self.fc2 = nn.Linear(512, 2)\n",
    "        \n",
    "        \n",
    "    def convs(self, x):\n",
    "        x = F.max_pool2d(F.relu(self.conv1(x)),(2,2))\n",
    "        x = F.max_pool2d(F.relu(self.conv2(x)),(2,2))        \n",
    "        x = F.max_pool2d(F.relu(self.conv3(x)),(2,2))\n",
    "        \n",
    "        #print(x[0].shape)\n",
    "        if self._to_linear is None:\n",
    "            self._to_linear = x[0].shape[0] * x[0].shape[1] * x[0].shape[2]\n",
    "            \n",
    "        return x\n",
    "    \n",
    "    def forward(self, x):\n",
    "        x = self.convs(x)\n",
    "        x = x.view(-1, self._to_linear) # To linear ?????\n",
    "        x = F.relu(self.fc1(x))\n",
    "        x = self.fc2(x)\n",
    "        return F.softmax(x, dim=1)"
   ]
  },
  {
   "cell_type": "code",
   "execution_count": 6,
   "metadata": {},
   "outputs": [
    {
     "name": "stdout",
     "output_type": "stream",
     "text": [
      "2494\n",
      "22452\n",
      "2494\n"
     ]
    }
   ],
   "source": [
    "net = Net().to(device)\n",
    "optimizer = optim.Adam(net.parameters(), lr = 0.001)\n",
    "lossFunction = nn.MSELoss()\n",
    "x = torch.Tensor([i[0] for i in trainingData]).view(-1, 50, 50)\n",
    "x = x/255.0\n",
    "y = torch.Tensor([i[1] for i in trainingData])\n",
    "valPct = 0.1\n",
    "valSize = int(len(x)*valPct)\n",
    "print(valSize)\n",
    "\n",
    "trainX = x[:-valSize]\n",
    "trainY = y[:-valSize]\n",
    "\n",
    "testX = x[-valSize:]\n",
    "testY = y[-valSize:]\n",
    "\n",
    "print(len(trainX))\n",
    "print(len(testX))\n"
   ]
  },
  {
   "cell_type": "code",
   "execution_count": 36,
   "metadata": {},
   "outputs": [],
   "source": [
    "batchSize = 100\n",
    "epochs = 3\n",
    "def train(net):\n",
    "    optimizer = optim.Adam(net.parameters(), lr = 0.001)\n",
    "    lossFunction = nn.MSELoss()\n",
    "    for epoch in range(epochs):\n",
    "        for i in tqdm(range(0, len(trainX), batchSize)):\n",
    "            #print(i, i + batchSize)\n",
    "            batchX = trainX[i:i+batchSize].view(-1,1,50,50)\n",
    "            batchY = trainY[i:i+batchSize]\n",
    "            \n",
    "            batchX, batchY = batchX.to(device), batchY.to(device)\n",
    "            \n",
    "            net.zero_grad() # or optimizer.zero_grad because 1 optimizer exists\n",
    "            outputs = net(batchX)\n",
    "            loss = lossFunction(outputs, batchY)\n",
    "            loss.backward()\n",
    "            optimizer.step()\n",
    "            \n",
    "        #print(f\"Epoch: {epoch}, Loss: {loss}\")\n",
    "        "
   ]
  },
  {
   "cell_type": "code",
   "execution_count": 7,
   "metadata": {},
   "outputs": [],
   "source": [
    "def test(net):\n",
    "    correct = 0\n",
    "    total = 0\n",
    "\n",
    "    with torch.no_grad():\n",
    "        for i in tqdm(range(len(testX))):\n",
    "            realClass = torch.argmax(testY[i]).to(device) \n",
    "            netOut = net(testX[i].view(-1,1,50,50).to(device))[0]\n",
    "            predictedClass = torch.argmax(netOut)\n",
    "            if predictedClass == realClass:\n",
    "                correct += 1\n",
    "            total += 1\n",
    "    #print(\"Accurancy:\", round(correct/total,3))"
   ]
  },
  {
   "cell_type": "code",
   "execution_count": 8,
   "metadata": {},
   "outputs": [],
   "source": [
    "def forwardPass(x, y, train = False):\n",
    "    if train:\n",
    "        net.zero_grad()\n",
    "    outputs = net(x)\n",
    "    #print(\"y is :\")\n",
    "   # print(y[0])\n",
    "    matches = [torch.argmax(i) == torch.argmax(j) for i, j in zip(outputs,y)]\n",
    "    acc = matches.count(True)/len(matches)\n",
    "    # there's still code to do here\n",
    "    loss = lossFunction(outputs, y)\n",
    "    \n",
    "    if train:\n",
    "        loss.backward()\n",
    "        optimizer.step()\n",
    "        \n",
    "    return acc, loss"
   ]
  },
  {
   "cell_type": "code",
   "execution_count": 9,
   "metadata": {},
   "outputs": [],
   "source": [
    "import numpy as np\n",
    "\n",
    "def test(size=32):\n",
    "    randomStart = np.random.randint(len(testX)-size)\n",
    "    x, y = testX[randomStart:randomStart + size], testY[randomStart:randomStart+size]\n",
    "    with torch.no_grad():\n",
    "        valAcc, valLoss = forwardPass(x.view(-1,1,50,50).to(device), y.to(device))\n",
    "    return valAcc, valLoss\n",
    "\n",
    "valAcc, valLoss = test(size=32)\n",
    "#print(valAcc, valLoss)"
   ]
  },
  {
   "cell_type": "code",
   "execution_count": 10,
   "metadata": {},
   "outputs": [
    {
     "name": "stderr",
     "output_type": "stream",
     "text": [
      "100%|████████████████████████████████████████████████████████████████████████████████| 450/450 [01:01<00:00,  7.31it/s]\n",
      "100%|████████████████████████████████████████████████████████████████████████████████| 450/450 [00:59<00:00,  7.56it/s]\n",
      "100%|████████████████████████████████████████████████████████████████████████████████| 450/450 [01:00<00:00,  7.42it/s]\n",
      "100%|████████████████████████████████████████████████████████████████████████████████| 450/450 [00:59<00:00,  7.53it/s]\n",
      "100%|████████████████████████████████████████████████████████████████████████████████| 450/450 [00:59<00:00,  7.60it/s]\n"
     ]
    }
   ],
   "source": [
    "import time\n",
    "from tqdm import tqdm\n",
    "\n",
    "modelName = f\"model-{int(time.time())}\"\n",
    "\n",
    "net = Net().to(device)\n",
    "\n",
    "optimizer = optim.Adam(net.parameters(), lr = 0.001)\n",
    "lossFunction = nn.MSELoss()\n",
    "\n",
    "#print(modelName)\n",
    "\n",
    "def train():\n",
    "    batchSize = 50\n",
    "    epochs = 5\n",
    "    with open(\"model.log\", \"a\") as f:\n",
    "        for epoch in range(epochs):\n",
    "            for i in tqdm(range(0, len(trainX), batchSize)):\n",
    "                batchX = trainX[i:i+batchSize].view(-1,1,50,50).to(device)\n",
    "                batchY = trainY[i:i+batchSize].to(device)\n",
    "                \n",
    "                acc, loss = forwardPass(batchX, batchY, train = True)\n",
    "                if i % 25 == 0:\n",
    "                    valAcc, valLoss = test(size=50)\n",
    "                    f.write(f\"{modelName}.{round(time.time(),3)},{round(float(acc),2)},{round(float(loss),4)},{round(float(valAcc),2)},{round(float(valLoss),4)}\\n\")\n",
    "                    \n",
    "train()\n",
    "                \n",
    "                "
   ]
  },
  {
   "cell_type": "code",
   "execution_count": null,
   "metadata": {},
   "outputs": [],
   "source": []
  }
 ],
 "metadata": {
  "kernelspec": {
   "display_name": "Python 3",
   "language": "python",
   "name": "python3"
  },
  "language_info": {
   "codemirror_mode": {
    "name": "ipython",
    "version": 3
   },
   "file_extension": ".py",
   "mimetype": "text/x-python",
   "name": "python",
   "nbconvert_exporter": "python",
   "pygments_lexer": "ipython3",
   "version": "3.7.6"
  }
 },
 "nbformat": 4,
 "nbformat_minor": 4
}
