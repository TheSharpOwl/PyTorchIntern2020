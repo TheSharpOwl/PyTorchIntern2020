{
 "cells": [
  {
   "cell_type": "code",
   "execution_count": 2,
   "metadata": {},
   "outputs": [],
   "source": [
    "import os\n",
    "import cv2\n",
    "import numpy as np\n",
    "from tqdm import tqdm"
   ]
  },
  {
   "cell_type": "code",
   "execution_count": 3,
   "metadata": {},
   "outputs": [
    {
     "name": "stderr",
     "output_type": "stream",
     "text": [
      "  1%|▌                                                                             | 82/12501 [00:00<00:15, 814.06it/s]"
     ]
    },
    {
     "name": "stdout",
     "output_type": "stream",
     "text": [
      "CatsVsDogs/PetImages/Cat\n"
     ]
    },
    {
     "name": "stderr",
     "output_type": "stream",
     "text": [
      "100%|███████████████████████████████████████████████████████████████████████████| 12501/12501 [00:14<00:00, 874.33it/s]\n",
      "  1%|▍                                                                             | 74/12501 [00:00<00:17, 727.42it/s]"
     ]
    },
    {
     "name": "stdout",
     "output_type": "stream",
     "text": [
      "CatsVsDogs/PetImages/Dog\n"
     ]
    },
    {
     "name": "stderr",
     "output_type": "stream",
     "text": [
      "100%|███████████████████████████████████████████████████████████████████████████| 12501/12501 [00:25<00:00, 486.59it/s]\n"
     ]
    },
    {
     "name": "stdout",
     "output_type": "stream",
     "text": [
      "Cats: 12476\n",
      "Dogs: 12470\n"
     ]
    }
   ],
   "source": [
    "\n",
    "\n",
    "\n",
    "REBUILD_DATA = True\n",
    "\n",
    "class DogsVsCats():\n",
    "    imageSize = 50\n",
    "    cats = \"CatsVsDogs/PetImages/Cat\"\n",
    "    dogs = \"CatsVsDogs/PetImages/Dog\"\n",
    "    labels = {cats : 0, dogs : 1}\n",
    "    trainingData = []\n",
    "    catCount = 0\n",
    "    dogCount = 0\n",
    "    \n",
    "    \n",
    "    def makeTrainingData(self):\n",
    "        for label in self.labels:\n",
    "            print(label)\n",
    "            for f in tqdm(os.listdir(label)):\n",
    "                try:\n",
    "                    path = os.path.join(label,f)\n",
    "                    img = cv2.imread(path, cv2.IMREAD_GRAYSCALE)\n",
    "                    img = cv2.resize(img, (self.imageSize, self.imageSize))\n",
    "                    # np.eye(2).... will produce [0,1] or [1,0]\n",
    "                    self.trainingData.append([np.array(img), np.eye(2)[self.labels[label]]])\n",
    "                    # Here we are using hot vectors (like bitmask if second is one it's a dog)\n",
    "                    if label == self.cats:\n",
    "                        self.catCount += 1\n",
    "                    elif label == self.dogs:\n",
    "                        self.dogCount += 1\n",
    "                except Exception as e:\n",
    "                    #print(str(e))\n",
    "                    pass # if some images are corrupted or not working\n",
    "        np.random.shuffle(self.trainingData)\n",
    "        np.save(\"trainingData.npy\", self.trainingData)\n",
    "        print(\"Cats:\", self.catCount)\n",
    "        print(\"Dogs:\", self.dogCount)\n",
    "        \n",
    "        \n",
    "if REBUILD_DATA:\n",
    "    dogsVsCats = DogsVsCats()\n",
    "    dogsVsCats.makeTrainingData()"
   ]
  },
  {
   "cell_type": "code",
   "execution_count": 3,
   "metadata": {},
   "outputs": [],
   "source": [
    "trainingData = np.load(\"trainingData.npy\", allow_pickle = True)\n",
    "\n"
   ]
  },
  {
   "cell_type": "code",
   "execution_count": 4,
   "metadata": {},
   "outputs": [
    {
     "name": "stdout",
     "output_type": "stream",
     "text": [
      "24946\n"
     ]
    }
   ],
   "source": [
    "print(len(trainingData))"
   ]
  },
  {
   "cell_type": "code",
   "execution_count": 5,
   "metadata": {},
   "outputs": [
    {
     "name": "stdout",
     "output_type": "stream",
     "text": [
      "[array([[115, 118, 119, ..., 108, 108, 108],\n",
      "       [114,  70, 115, ..., 108, 108, 108],\n",
      "       [114,   5,  10, ..., 107, 108, 110],\n",
      "       ...,\n",
      "       [115, 118, 118, ..., 112, 111, 109],\n",
      "       [127, 129, 134, ..., 113, 114, 111],\n",
      "       [ 83,  46,  63, ..., 115, 112, 112]], dtype=uint8)\n",
      " array([1., 0.])]\n"
     ]
    }
   ],
   "source": [
    "print(trainingData[0])"
   ]
  },
  {
   "cell_type": "code",
   "execution_count": 6,
   "metadata": {},
   "outputs": [
    {
     "data": {
      "image/png": "[encoded data removed]",
      "text/plain": [
       "<Figure size 432x288 with 1 Axes>"
      ]
     },
     "metadata": {
      "needs_background": "light"
     },
     "output_type": "display_data"
    }
   ],
   "source": [
    "import matplotlib.pyplot as plt\n",
    "\n",
    "plt.imshow(trainingData[1][0], cmap=\"gray\")\n",
    "plt.show()"
   ]
  },
  {
   "cell_type": "code",
   "execution_count": null,
   "metadata": {},
   "outputs": [],
   "source": []
  },
  {
   "cell_type": "code",
   "execution_count": 7,
   "metadata": {},
   "outputs": [],
   "source": [
    "import torch\n",
    "import torch.nn as nn\n",
    "import torch.nn.functional as F\n",
    "\n",
    "class Net(nn.Module):\n",
    "    def __init__(self):\n",
    "        super().__init__()\n",
    "        # Kernel/Window is 5\n",
    "        self.conv1 = nn.Conv2d(1, 32, 5)\n",
    "        self.conv2 = nn.Conv2d(32, 64, 5)\n",
    "        self.conv3 = nn.Conv2d(64, 128, 5)\n",
    "        \n",
    "        x = torch.randn(50,50).view(-1,1,50,50)\n",
    "        self._to_linear = None\n",
    "        self.convs(x) # part of the forward\n",
    "        \n",
    "        self.fc1 = nn.Linear(self._to_linear, 512)\n",
    "        self.fc2 = nn.Linear(512, 2)\n",
    "        \n",
    "        \n",
    "    def convs(self, x):\n",
    "        x = F.max_pool2d(F.relu(self.conv1(x)),(2,2))\n",
    "        x = F.max_pool2d(F.relu(self.conv2(x)),(2,2))        \n",
    "        x = F.max_pool2d(F.relu(self.conv3(x)),(2,2))\n",
    "        \n",
    "        #print(x[0].shape)\n",
    "        if self._to_linear is None:\n",
    "            self._to_linear = x[0].shape[0] * x[0].shape[1] * x[0].shape[2]\n",
    "            \n",
    "        return x\n",
    "    \n",
    "    def forward(self, x):\n",
    "        x = self.convs(x)\n",
    "        x = x.view(-1, self._to_linear)\n",
    "        x = F.relu(self.fc1(x))\n",
    "        x = self.fc2(x)\n",
    "        return F.softmax(x, dim=1)\n",
    "    \n",
    "net = Net()"
   ]
  },
  {
   "cell_type": "code",
   "execution_count": 8,
   "metadata": {},
   "outputs": [],
   "source": [
    "import torch.optim as optim\n",
    "\n",
    "optimizer = optim.Adam(net.parameters(), lr = 0.001)\n",
    "lossFunction = nn.MSELoss()\n",
    "\n",
    "X = torch.Tensor([i[0] for i in trainingData]).view(-1, 50, 50)\n",
    "X = X/255.0 # just scaling to make it between 0,1\n",
    "\n",
    "Y = torch.Tensor([i[1] for i in trainingData])\n",
    "\n",
    "valPercent = 0.1\n",
    "valSize = int(len(X) * valPercent)\n",
    "#print(valSize)"
   ]
  },
  {
   "cell_type": "code",
   "execution_count": 14,
   "metadata": {},
   "outputs": [
    {
     "name": "stdout",
     "output_type": "stream",
     "text": [
      "22452\n",
      "2494\n"
     ]
    }
   ],
   "source": [
    "trainX = X[:-valSize]\n",
    "trainY = Y[:-valSize]\n",
    "\n",
    "testX = X[-valSize:]\n",
    "testY = Y[-valSize:]\n",
    "\n",
    "print(len(trainX))\n",
    "print(len(testX))"
   ]
  },
  {
   "cell_type": "code",
   "execution_count": 15,
   "metadata": {},
   "outputs": [
    {
     "name": "stderr",
     "output_type": "stream",
     "text": [
      "100%|████████████████████████████████████████████████████████████████████████████████| 225/225 [01:54<00:00,  1.97it/s]"
     ]
    },
    {
     "name": "stdout",
     "output_type": "stream",
     "text": [
      "tensor(0.2134, grad_fn=<MseLossBackward>)\n"
     ]
    },
    {
     "name": "stderr",
     "output_type": "stream",
     "text": [
      "\n"
     ]
    }
   ],
   "source": [
    "batchSize = 100\n",
    "epochs = 1\n",
    "for epoch in range(epochs):\n",
    "    for i in tqdm(range(0, len(trainX), batchSize)):\n",
    "        #print(i, i + batchSize)\n",
    "        batchX = trainX[i:i+batchSize].view(-1,1,50,50)\n",
    "        batchY = trainY[i:i+batchSize]\n",
    "        \n",
    "        net.zero_grad() # or optimizer.zero_grad because 1 optimizer exists\n",
    "        outputs = net(batchX)\n",
    "        loss = lossFunction(outputs, batchY)\n",
    "        loss.backward()\n",
    "        optimizer.step()\n",
    "        \n",
    "print(loss)"
   ]
  },
  {
   "cell_type": "code",
   "execution_count": 16,
   "metadata": {},
   "outputs": [
    {
     "name": "stderr",
     "output_type": "stream",
     "text": [
      "100%|█████████████████████████████████████████████████████████████████████████████| 2494/2494 [00:06<00:00, 393.18it/s]"
     ]
    },
    {
     "name": "stdout",
     "output_type": "stream",
     "text": [
      "Accurancy: 0.702\n"
     ]
    },
    {
     "name": "stderr",
     "output_type": "stream",
     "text": [
      "\n"
     ]
    }
   ],
   "source": [
    "correct = 0\n",
    "total = 0\n",
    "\n",
    "with torch.no_grad():\n",
    "    for i in tqdm(range(len(testX))):\n",
    "        realClass = torch.argmax(testY[i])\n",
    "        netOut = net(testX[i].view(-1,1,50,50))[0]\n",
    "        predictedClass = torch.argmax(netOut)\n",
    "        if predictedClass == realClass:\n",
    "            correct += 1\n",
    "        total += 1\n",
    "print(\"Accurancy:\", round(correct/total,3))"
   ]
  }
 ],
 "metadata": {
  "kernelspec": {
   "display_name": "Python 3",
   "language": "python",
   "name": "python3"
  },
  "language_info": {
   "codemirror_mode": {
    "name": "ipython",
    "version": 3
   },
   "file_extension": ".py",
   "mimetype": "text/x-python",
   "name": "python",
   "nbconvert_exporter": "python",
   "pygments_lexer": "ipython3",
   "version": "3.7.6"
  }
 },
 "nbformat": 4,
 "nbformat_minor": 4
}
