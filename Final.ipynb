{
 "cells": [
  {
   "cell_type": "code",
   "execution_count": 6,
   "metadata": {},
   "outputs": [
    {
     "name": "stderr",
     "output_type": "stream",
     "text": [
      "100%|██████████████████████████████████████████████████████████████████████████████████| 43/43 [00:13<00:00,  3.11it/s]\n"
     ]
    },
    {
     "name": "stdout",
     "output_type": "stream",
     "text": [
      "[[[ 75  78  80]\n",
      "  [ 74  76  78]\n",
      "  [ 86  87  84]\n",
      "  ...\n",
      "  [ 68  75  75]\n",
      "  [ 65  69  68]\n",
      "  [ 66  67  66]]\n",
      "\n",
      " [[ 83  84  86]\n",
      "  [ 80  80  82]\n",
      "  [ 90  89  84]\n",
      "  ...\n",
      "  [ 73  77  78]\n",
      "  [ 76  78  75]\n",
      "  [ 80  80  78]]\n",
      "\n",
      " [[ 78  78  80]\n",
      "  [ 86  85  86]\n",
      "  [ 93  90  91]\n",
      "  ...\n",
      "  [ 72  74  72]\n",
      "  [ 73  74  69]\n",
      "  [ 78  78  74]]\n",
      "\n",
      " ...\n",
      "\n",
      " [[133 134 139]\n",
      "  [122 127 132]\n",
      "  [112 121 124]\n",
      "  ...\n",
      "  [ 94  94  89]\n",
      "  [ 97  98  91]\n",
      "  [ 99 103  99]]\n",
      "\n",
      " [[ 91  95  99]\n",
      "  [ 91  98 103]\n",
      "  [ 74  85  89]\n",
      "  ...\n",
      "  [103 101  95]\n",
      "  [110 113 104]\n",
      "  [ 96 104  98]]\n",
      "\n",
      " [[ 85  84  87]\n",
      "  [ 95 101 107]\n",
      "  [ 61  74  79]\n",
      "  ...\n",
      "  [102 102  95]\n",
      "  [ 99 102  90]\n",
      "  [ 90  97  89]]]\n",
      "0\n"
     ]
    }
   ],
   "source": [
    "# Reading the images:\n",
    "import matplotlib.pyplot as plt\n",
    "import csv\n",
    "from tqdm import tqdm\n",
    "\n",
    "def readTrafficSigns(rootpath):\n",
    "    '''Reads traffic sign data for German Traffic Sign Recognition Benchmark.\n",
    "\n",
    "    Arguments: path to the traffic sign data, for example './GTSRB/Training'\n",
    "    Returns:   list of images, list of corresponding labels'''\n",
    "    images = [] # images\n",
    "    labels = [] # corresponding labels\n",
    "    # loop over all 42 classes\n",
    "    for c in tqdm(range(0,43)):\n",
    "        #print(c)\n",
    "        prefix = rootpath + '/' + format(c, '05d') + '/' # subdirectory for class\n",
    "        gtFile = open(prefix + 'GT-'+ format(c, '05d') + '.csv') # annotations file\n",
    "        gtReader = csv.reader(gtFile, delimiter=';') # csv parser for annotations file\n",
    "        next(gtReader) # skip header\n",
    "        # loop over all images in current annotations file\n",
    "        for row in gtReader:\n",
    "            images.append(plt.imread(prefix + row[0])) # the 1th column is the filename\n",
    "            labels.append(row[7]) # the 8th column is the label\n",
    "        gtFile.close()\n",
    "    return images, labels\n",
    "\n",
    "images, labels = readTrafficSigns(\"GermanDataset\\\\GTSRB_Final_Training_Images\\\\GTSRB\\\\Final_Training\\\\Images\")\n",
    "print(images[0])\n",
    "print(labels[0])"
   ]
  },
  {
   "cell_type": "code",
   "execution_count": 7,
   "metadata": {},
   "outputs": [
    {
     "data": {
      "text/plain": [
       "<matplotlib.image.AxesImage at 0x1ea4539d5c8>"
      ]
     },
     "execution_count": 7,
     "metadata": {},
     "output_type": "execute_result"
    },
    {
     "data": {
      "image/png": "[encoded data removed]",
      "text/plain": [
       "<Figure size 432x288 with 1 Axes>"
      ]
     },
     "metadata": {
      "needs_background": "light"
     },
     "output_type": "display_data"
    }
   ],
   "source": [
    "plt.imshow(images[0])"
   ]
  },
  {
   "cell_type": "code",
   "execution_count": 10,
   "metadata": {},
   "outputs": [
    {
     "name": "stdout",
     "output_type": "stream",
     "text": [
      "<class 'numpy.ndarray'>\n",
      "30\n"
     ]
    }
   ],
   "source": [
    "print(type(images[0]))\n",
    "print(len(images[0]))"
   ]
  },
  {
   "cell_type": "code",
   "execution_count": 24,
   "metadata": {},
   "outputs": [],
   "source": [
    "import os\n",
    "import cv2\n",
    "import numpy as np\n",
    "from tqdm import tqdm\n",
    "import torch\n",
    "import torch.nn as nn\n",
    "import torch.nn.functional as F\n",
    "import torch.optim as optim\n",
    "import matplotlib.pyplot as plt\n",
    "import csv\n",
    "from PIL import Image"
   ]
  },
  {
   "cell_type": "code",
   "execution_count": 36,
   "metadata": {},
   "outputs": [
    {
     "name": "stderr",
     "output_type": "stream",
     "text": [
      "  0%|                                                                                           | 0/43 [00:00<?, ?it/s]"
     ]
    },
    {
     "name": "stdout",
     "output_type": "stream",
     "text": [
      "Running on the GPU\n"
     ]
    },
    {
     "name": "stderr",
     "output_type": "stream",
     "text": [
      "100%|██████████████████████████████████████████████████████████████████████████████████| 43/43 [01:25<00:00,  1.98s/it]\n"
     ]
    }
   ],
   "source": [
    "REBUILD_DATA = True # Set it to true once!!\n",
    "\n",
    "import numpy as np\n",
    "import matplotlib.pyplot as plt\n",
    "import matplotlib.image as mpimg\n",
    "\n",
    "def rgb2gray(rgb):\n",
    "    return np.dot(rgb[...,:3], [0.2989, 0.5870, 0.1140])\n",
    "\n",
    "#img = mpimg.imread('image.png')     \n",
    "#gray = rgb2gray(img)    \n",
    "#plt.imshow(gray, cmap=plt.get_cmap('gray'), vmin=0, vmax=1)\n",
    "#plt.show()\n",
    "\n",
    "\n",
    "if torch.cuda.is_available():\n",
    "    device = torch.device(\"cuda:0\")\n",
    "    print(\"Running on the GPU\")\n",
    "else:\n",
    "    device = torch.device(\"cpu\")\n",
    "    print(\"Running on the CPU\")\n",
    "\n",
    "class StreetSigns():\n",
    "    imageSize = 50\n",
    "    #labels = {cats : 0, dogs : 1} # TODO Later\n",
    "    labels = [] # maybe not needed TODO\n",
    "    trainingData = []\n",
    "    def makeTrainingData(self, rootpath):\n",
    "        for c in tqdm(range(0,43)):\n",
    "        #print(c)\n",
    "            prefix = rootpath + '/' + format(c, '05d') + '/' # subdirectory for class\n",
    "            gtFile = open(prefix + 'GT-'+ format(c, '05d') + '.csv') # annotations file\n",
    "            gtReader = csv.reader(gtFile, delimiter=';') # csv parser for annotations file\n",
    "            next(gtReader) # skip header\n",
    "            # loop over all images in current annotations file\n",
    "            for row in gtReader:\n",
    "                img = plt.imread(prefix + row[0])\n",
    "                img = cv2.resize(img, (self.imageSize, self.imageSize))\n",
    "                img = np.array(img)\n",
    "                #plt.imshow(img)\n",
    "                img = rgb2gray(img) \n",
    "                label = int(row[7])\n",
    "                self.labels.append(label) # the 8th column is the label\n",
    "                self.trainingData.append([np.array(img), np.eye(43)[self.labels[label]]])\n",
    "\n",
    "            gtFile.close()\n",
    "                \n",
    "                \n",
    "        np.random.shuffle(self.trainingData)\n",
    "        np.save(\"StreetSignsData.npy\", self.trainingData)\n",
    "        \n",
    "        \n",
    "if REBUILD_DATA:\n",
    "    streetSigns = StreetSigns()\n",
    "    streetSigns.makeTrainingData(\"GermanDataset\\\\GTSRB_Final_Training_Images\\\\GTSRB\\\\Final_Training\\\\Images\")"
   ]
  },
  {
   "cell_type": "code",
   "execution_count": 37,
   "metadata": {},
   "outputs": [
    {
     "name": "stdout",
     "output_type": "stream",
     "text": [
      "39209\n",
      "[array([[30.2852, 29.5734, 28.8616, ..., 28.5735, 28.8724, 29.5734],\n",
      "       [31.8721, 30.5733, 28.9756, ..., 28.1606, 28.2746, 28.2746],\n",
      "       [32.986 , 30.6873, 28.9756, ..., 26.5629, 27.2639, 27.2639],\n",
      "       ...,\n",
      "       [20.4818, 20.8947, 21.7806, ..., 28.3455, 27.5736, 27.2747],\n",
      "       [20.4818, 20.8947, 21.1936, ..., 27.8725, 28.2746, 28.0897],\n",
      "       [20.8947, 20.8947, 20.8947, ..., 27.8725, 28.2746, 29.0896]])\n",
      " array([1., 0., 0., 0., 0., 0., 0., 0., 0., 0., 0., 0., 0., 0., 0., 0., 0.,\n",
      "       0., 0., 0., 0., 0., 0., 0., 0., 0., 0., 0., 0., 0., 0., 0., 0., 0.,\n",
      "       0., 0., 0., 0., 0., 0., 0., 0., 0.])]\n"
     ]
    }
   ],
   "source": [
    "trainingData = np.load(\"StreetSignsData.npy\", allow_pickle = True)\n",
    "print(len(trainingData))\n",
    "print(trainingData[0])"
   ]
  },
  {
   "cell_type": "code",
   "execution_count": 38,
   "metadata": {},
   "outputs": [
    {
     "data": {
      "image/png": "[encoded data removed]",
      "text/plain": [
       "<Figure size 432x288 with 1 Axes>"
      ]
     },
     "metadata": {
      "needs_background": "light"
     },
     "output_type": "display_data"
    }
   ],
   "source": [
    "# Let's show a picture\n",
    "plt.imshow(trainingData[1][0], cmap=\"gray\")\n",
    "plt.show()"
   ]
  }
 ],
 "metadata": {
  "kernelspec": {
   "display_name": "Python 3",
   "language": "python",
   "name": "python3"
  },
  "language_info": {
   "codemirror_mode": {
    "name": "ipython",
    "version": 3
   },
   "file_extension": ".py",
   "mimetype": "text/x-python",
   "name": "python",
   "nbconvert_exporter": "python",
   "pygments_lexer": "ipython3",
   "version": "3.7.6"
  }
 },
 "nbformat": 4,
 "nbformat_minor": 4
}
