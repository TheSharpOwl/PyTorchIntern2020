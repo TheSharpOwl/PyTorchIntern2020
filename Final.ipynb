{
 "cells": [
  {
   "cell_type": "code",
   "execution_count": 2,
   "metadata": {},
   "outputs": [],
   "source": [
    "# import the required packages\n",
    "import os\n",
    "import cv2\n",
    "import numpy as np\n",
    "from tqdm import tqdm\n",
    "import torch\n",
    "import torch.nn as nn\n",
    "import torch.nn.functional as F\n",
    "import torch.optim as optim\n",
    "import matplotlib.pyplot as plt\n",
    "import matplotlib.image as mpimg\n",
    "import csv\n",
    "from PIL import Image"
   ]
  },
  {
   "cell_type": "code",
   "execution_count": 3,
   "metadata": {},
   "outputs": [
    {
     "name": "stdout",
     "output_type": "stream",
     "text": [
      "Running on the GPU\n"
     ]
    }
   ],
   "source": [
    "# Boolean variable in order to not build the data more than once (just load it if you did before)\n",
    "REBUILD_DATA = False # Set it to true once!!\n",
    "\n",
    "# Function to convert rgb images to gray scale\n",
    "# source : https://stackoverflow.com/questions/12201577/how-can-i-convert-an-rgb-image-into-grayscale-in-python\n",
    "def rgb2gray(rgb):\n",
    "    return np.dot(rgb[...,:3], [0.2989, 0.5870, 0.1140])\n",
    "\n",
    "# Use the gpu if there's Cuda and a compatiable GPU with it. Otherwise, use the CPU\n",
    "if torch.cuda.is_available():\n",
    "    device = torch.device(\"cuda:0\")\n",
    "    print(\"Running on the GPU\")\n",
    "else:\n",
    "    device = torch.device(\"cpu\")\n",
    "    print(\"Running on the CPU\")\n",
    "\n",
    "class StreetSigns():\n",
    "    imageSize = 50\n",
    "    labels = []\n",
    "    trainingData = []\n",
    "    def makeTrainingData(self, rootpath):\n",
    "        # using tqdm to enable the nice view of a loading bar\n",
    "        for c in tqdm(range(0,43)):\n",
    "            # Get the directory for the images \n",
    "            prefix = rootpath + '/' + format(c, '05d') + '/' # subdirectory for class\n",
    "            gtFile = open(prefix + 'GT-'+ format(c, '05d') + '.csv') # annotations file\n",
    "            gtReader = csv.reader(gtFile, delimiter=';') # csv parser for annotations file\n",
    "            next(gtReader) # skip header\n",
    "            # loop over all images in current annotations file\n",
    "            for row in gtReader:\n",
    "                img = plt.imread(prefix + row[0])\n",
    "                img = cv2.resize(img, (self.imageSize, self.imageSize))\n",
    "                img = np.array(img)\n",
    "                img = rgb2gray(img) #tranform it to gray scale \n",
    "                label = int(row[7])\n",
    "                self.labels.append(label) # the 8th column is the label\n",
    "                '''\n",
    "                Here I am using light vectors (let's say the image belongs to the 5th label, so the \n",
    "                second list to store would be [0,0,0,0,1,....,0])\n",
    "                '''\n",
    "                self.trainingData.append([np.array(img), np.eye(43)[label]])\n",
    "\n",
    "            gtFile.close()\n",
    "                \n",
    "        # Shuffle our training data        \n",
    "        np.random.shuffle(self.trainingData)\n",
    "        np.save(\"StreetSignsData.npy\", self.trainingData)\n",
    "        \n",
    "# check if we need to rebuild the data and do so if needed        \n",
    "if REBUILD_DATA:\n",
    "    streetSigns = StreetSigns()\n",
    "    streetSigns.makeTrainingData(\"GermanDataset\\\\GTSRB_Final_Training_Images\\\\GTSRB\\\\Final_Training\\\\Images\")"
   ]
  },
  {
   "cell_type": "code",
   "execution_count": 4,
   "metadata": {},
   "outputs": [
    {
     "name": "stdout",
     "output_type": "stream",
     "text": [
      "39209\n",
      "[array([[105.7139, 102.1873, 103.3012, ..., 109.7673, 106.6967, 104.2239],\n",
      "       [109.1588, 106.5181, 105.2193, ..., 110.7672, 108.8814, 104.8818],\n",
      "       [105.6645, 104.1377, 104.1377, ..., 112.066 , 111.7671, 107.3546],\n",
      "       ...,\n",
      "       [103.4367, 103.0669,  97.3556, ..., 111.1262, 119.8803, 115.9346],\n",
      "       [105.6429,  99.8715,  93.5732, ..., 115.3538, 116.4076, 107.4516],\n",
      "       [ 99.3338,  94.9752,  89.9757, ..., 112.995 , 102.295 ,  92.2852]])\n",
      " array([0., 0., 0., 0., 0., 0., 0., 0., 0., 0., 0., 0., 0., 0., 0., 0., 0.,\n",
      "       0., 0., 0., 0., 0., 0., 0., 0., 0., 0., 0., 0., 0., 0., 0., 0., 0.,\n",
      "       0., 1., 0., 0., 0., 0., 0., 0., 0.])]\n"
     ]
    }
   ],
   "source": [
    "# load the training data\n",
    "trainingData = np.load(\"StreetSignsData.npy\", allow_pickle = True)\n",
    "# print some samples to make sure we are doing fine\n",
    "print(len(trainingData))\n",
    "print(trainingData[1])"
   ]
  },
  {
   "cell_type": "code",
   "execution_count": 5,
   "metadata": {},
   "outputs": [
    {
     "data": {
      "image/png": "[encoded data removed]",
      "text/plain": [
       "<Figure size 432x288 with 1 Axes>"
      ]
     },
     "metadata": {
      "needs_background": "light"
     },
     "output_type": "display_data"
    }
   ],
   "source": [
    "# Let's show a picture\n",
    "plt.imshow(trainingData[1][0], cmap=\"gray\")\n",
    "plt.show()"
   ]
  },
  {
   "cell_type": "code",
   "execution_count": 6,
   "metadata": {},
   "outputs": [],
   "source": [
    "# Our Neural Netowrk Class\n",
    "class Net(nn.Module):\n",
    "    def __init__(self):\n",
    "        super().__init__()\n",
    "        # Kernel/Window size is 5\n",
    "        \n",
    "        # here we have 3 layers\n",
    "        self.conv1 = nn.Conv2d(1, 32, 5)\n",
    "        self.conv2 = nn.Conv2d(32, 64, 5)\n",
    "        self.conv3 = nn.Conv2d(64, 128, 5)\n",
    "        \n",
    "        x = torch.randn(50,50).view(-1,1,50,50)\n",
    "        self._to_linear = None\n",
    "        self.convs(x) # part of the forward\n",
    "        \n",
    "        # and two activation functions\n",
    "        self.fc1 = nn.Linear(self._to_linear, 512)\n",
    "        self.fc2 = nn.Linear(512, 43)\n",
    "        \n",
    "    # transform our image to an approeriate way for our neurons   \n",
    "    def convs(self, x):\n",
    "        x = F.max_pool2d(F.relu(self.conv1(x)),(2,2))\n",
    "        x = F.max_pool2d(F.relu(self.conv2(x)),(2,2))        \n",
    "        x = F.max_pool2d(F.relu(self.conv3(x)),(2,2))\n",
    "        \n",
    "        if self._to_linear is None:\n",
    "            self._to_linear = x[0].shape[0] * x[0].shape[1] * x[0].shape[2]\n",
    "            \n",
    "        return x\n",
    "    \n",
    "    def forward(self, x):\n",
    "        x = self.convs(x)\n",
    "        x = x.view(-1, self._to_linear)\n",
    "        x = F.relu(self.fc1(x))\n",
    "        x = self.fc2(x)\n",
    "        return F.softmax(x, dim=1)"
   ]
  },
  {
   "cell_type": "code",
   "execution_count": 7,
   "metadata": {},
   "outputs": [
    {
     "name": "stdout",
     "output_type": "stream",
     "text": [
      "3920\n",
      "35289\n",
      "3920\n"
     ]
    }
   ],
   "source": [
    "net = Net().to(device)\n",
    "optimizer = optim.Adam(net.parameters(), lr = 0.001)\n",
    "lossFunction = nn.MSELoss()\n",
    "# x is storing the data, y is storing the correspondant data\n",
    "x = torch.Tensor([i[0] for i in trainingData]).view(-1, 50, 50)\n",
    "x = x/255.0 # normalize the values to be in range [0,1]\n",
    "y = torch.Tensor([i[1] for i in trainingData])\n",
    "valPct = 0.1\n",
    "valSize = int(len(x)*valPct)\n",
    "print(valSize)\n",
    "\n",
    "trainX = x[:-valSize]\n",
    "trainY = y[:-valSize]\n",
    "\n",
    "testX = x[-valSize:]\n",
    "testY = y[-valSize:]\n",
    "\n",
    "print(len(trainX))\n",
    "print(len(testX))"
   ]
  },
  {
   "cell_type": "code",
   "execution_count": 8,
   "metadata": {},
   "outputs": [],
   "source": [
    "batchSize = 100\n",
    "epochs = 9\n",
    "def train(net):\n",
    "    optimizer = optim.Adam(net.parameters(), lr = 0.001)\n",
    "    lossFunction = nn.MSELoss()\n",
    "    for epoch in range(epochs):\n",
    "        for i in tqdm(range(0, len(trainX), batchSize)):\n",
    "            #print(i, i + batchSize)\n",
    "            batchX = trainX[i:i+batchSize].view(-1,1,50,50)\n",
    "            batchY = trainY[i:i+batchSize]\n",
    "            \n",
    "            batchX, batchY = batchX.to(device), batchY.to(device)\n",
    "            \n",
    "            net.zero_grad() # or optimizer.zero_grad because 1 optimizer exists\n",
    "            outputs = net(batchX)\n",
    "            loss = lossFunction(outputs, batchY)\n",
    "            loss.backward()\n",
    "            optimizer.step()\n",
    "            \n",
    "        print(f\"Epoch: {epoch}, Loss: {loss}\")\n",
    "        "
   ]
  },
  {
   "cell_type": "code",
   "execution_count": 9,
   "metadata": {},
   "outputs": [],
   "source": [
    "def test(net):\n",
    "    correct = 0\n",
    "    total = 0\n",
    "\n",
    "    with torch.no_grad():\n",
    "        for i in tqdm(range(len(testX))):\n",
    "            # take out the right answer and the predicted answer to compare them\n",
    "            realClass = torch.argmax(testY[i]).to(device) \n",
    "            netOut = net(testX[i].view(-1,1,50,50).to(device))[0]\n",
    "            predictedClass = torch.argmax(netOut)\n",
    "            if predictedClass == realClass:\n",
    "                correct += 1\n",
    "            total += 1\n",
    "    print(\"Accurancy:\", round(correct/total,3))"
   ]
  },
  {
   "cell_type": "code",
   "execution_count": 10,
   "metadata": {},
   "outputs": [],
   "source": [
    "def forwardPass(x, y, train = False):\n",
    "    if train: # if we are in training mode, we have to reset the gradient for calculations\n",
    "        net.zero_grad()\n",
    "    outputs = net(x)\n",
    "    # count the matches to find the accurancy ratio and the loss\n",
    "    matches = [torch.argmax(i) == torch.argmax(j) for i, j in zip(outputs,y)]\n",
    "    acc = matches.count(True)/len(matches)\n",
    "    loss = lossFunction(outputs, y)\n",
    "    # if we are training, do back propegation\n",
    "    if train:\n",
    "        loss.backward()\n",
    "        optimizer.step()\n",
    "        \n",
    "    return acc, loss"
   ]
  },
  {
   "cell_type": "code",
   "execution_count": 11,
   "metadata": {},
   "outputs": [],
   "source": [
    "import numpy as np\n",
    "\n",
    "# when testing, I took a random chuck from the testing data and compared the results\n",
    "def test(size=32):\n",
    "    randomStart = np.random.randint(len(testX)-size)\n",
    "    x, y = testX[randomStart:randomStart + size], testY[randomStart:randomStart+size]\n",
    "    with torch.no_grad():\n",
    "        valAcc, valLoss = forwardPass(x.view(-1,1,50,50).to(device), y.to(device))\n",
    "    return valAcc, valLoss\n",
    "\n",
    "valAcc, valLoss = test(size=32)\n",
    "#print(valAcc, valLoss)"
   ]
  },
  {
   "cell_type": "code",
   "execution_count": 13,
   "metadata": {},
   "outputs": [
    {
     "name": "stderr",
     "output_type": "stream",
     "text": [
      "100%|████████████████████████████████████████████████████████████████████████████████| 706/706 [01:38<00:00,  7.17it/s]\n",
      "100%|████████████████████████████████████████████████████████████████████████████████| 706/706 [01:47<00:00,  6.58it/s]\n",
      "100%|████████████████████████████████████████████████████████████████████████████████| 706/706 [01:43<00:00,  6.79it/s]\n"
     ]
    }
   ],
   "source": [
    "''' (Delete the current model log file before running this code) '''\n",
    "import time\n",
    "from tqdm import tqdm\n",
    "# store the info to our log file (Delete the current file before running this code)\n",
    "modelName = f\"model-{int(time.time())}\"\n",
    "\n",
    "net = Net().to(device)\n",
    "\n",
    "optimizer = optim.Adam(net.parameters(), lr = 0.001)\n",
    "lossFunction = nn.MSELoss()\n",
    "\n",
    "# after each epoch, calcualte the loss and the accurancy to plot changes at the end\n",
    "\n",
    "def train():\n",
    "    batchSize = 50\n",
    "    epochs = 3\n",
    "    with open(\"model.log\", \"a\") as f:\n",
    "        for epoch in range(epochs):\n",
    "            for i in tqdm(range(0, len(trainX), batchSize)):\n",
    "                batchX = trainX[i:i+batchSize].view(-1,1,50,50).to(device)\n",
    "                batchY = trainY[i:i+batchSize].to(device)\n",
    "                \n",
    "                acc, loss = forwardPass(batchX, batchY, train = True)\n",
    "                if i % 25 == 0:\n",
    "                    valAcc, valLoss = test(size=50)\n",
    "                    f.write(f\"{modelName},{round(time.time(),3)},{round(float(acc),2)},{round(float(loss),4)},{round(float(valAcc),2)},{round(float(valLoss),4)}\\n\")\n",
    "                    \n",
    "train()\n",
    "                \n",
    "                "
   ]
  },
  {
   "cell_type": "code",
   "execution_count": 14,
   "metadata": {},
   "outputs": [
    {
     "data": {
      "image/png": "[encoded data removed]",
      "text/plain": [
       "<Figure size 432x288 with 2 Axes>"
      ]
     },
     "metadata": {},
     "output_type": "display_data"
    }
   ],
   "source": [
    "import matplotlib.pyplot as plt\n",
    "from matplotlib import style\n",
    "\n",
    "# create a simple graph for model analysis\n",
    "# if you run it in an IDE, you will have more controls over the graph such as zooming\n",
    "style.use(\"ggplot\")\n",
    "\n",
    "# we already have the variable modelName\n",
    "\n",
    "def createAccLossGraph(modelName):\n",
    "    contents = open(\"model.log\", \"r\").read().split('\\n')\n",
    "    \n",
    "    times = []\n",
    "    accuarncies = []\n",
    "    losses = []\n",
    "    \n",
    "    valAccs = []\n",
    "    valLosses = []\n",
    "    \n",
    "    for c in contents:\n",
    "        if modelName in c:\n",
    "            name, timestamp, acc, loss, valAcc, ValLoss = c.split(\",\")\n",
    "            \n",
    "            times.append(float(timestamp))\n",
    "            accuarncies.append(float(acc))            \n",
    "            losses.append(float(loss))\n",
    "            \n",
    "            valAccs.append(float(valAcc))            \n",
    "            valLosses.append(float(ValLoss))\n",
    "            \n",
    "    fig = plt.figure() #because we need more than one plot, if we need we would use plt.plot\n",
    "    ax1 = plt.subplot2grid((2,1), (0,0))\n",
    "    ax2 = plt.subplot2grid((2,1), (1,0), sharex = ax1)\n",
    "    \n",
    "    ax1.plot(times, accuarncies, label=\"acc\")\n",
    "    ax1.plot(times, valAccs, label=\"valAcc\")\n",
    "    ax1.legend(loc=2)\n",
    "    \n",
    "    ax2.plot(times, losses, label=\"loss\")\n",
    "    ax2.plot(times, valLosses, label=\"valLoss\")\n",
    "    ax2.legend(loc=2)\n",
    "    \n",
    "    #debug\n",
    "\n",
    "    plt.show()\n",
    "\n",
    "    \n",
    "createAccLossGraph(modelName)\n",
    "    "
   ]
  }
 ],
 "metadata": {
  "kernelspec": {
   "display_name": "Python 3",
   "language": "python",
   "name": "python3"
  },
  "language_info": {
   "codemirror_mode": {
    "name": "ipython",
    "version": 3
   },
   "file_extension": ".py",
   "mimetype": "text/x-python",
   "name": "python",
   "nbconvert_exporter": "python",
   "pygments_lexer": "ipython3",
   "version": "3.7.6"
  }
 },
 "nbformat": 4,
 "nbformat_minor": 4
}
